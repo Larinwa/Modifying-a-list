{
 "cells": [
  {
   "cell_type": "markdown",
   "id": "ee52efe4",
   "metadata": {},
   "source": [
    "### Research on the two methods of copying a list with examples\n",
    "\n",
    "There are various ways or method of copying a list.\n",
    "However, for the purpose of the assignment\n",
    "<br>we would consider just 2;\n",
    "1. Copying a list using .slice()\n",
    "2. Copying a list using .extend()\n",
    "\n"
   ]
  },
  {
   "cell_type": "code",
   "execution_count": 191,
   "id": "7599b76a",
   "metadata": {},
   "outputs": [
    {
     "name": "stdout",
     "output_type": "stream",
     "text": [
      "['I am a Data scientist', 'We just concluded SQL', 'Now moving to Python', '[I am a student of Appclick]', [1, 2, 4, 6, 8], 'SQL', 9, 8, 7, 6]\n",
      "['I am a Data scientist', 'We just concluded SQL', 'Now moving to Python', '[I am a student of Appclick]', [1, 2, 4, 6, 8], 'SQL', 9, 8, 7, 6]\n"
     ]
    }
   ],
   "source": [
    "# slice method\n",
    "original_list= [\"I am a Data scientist\", \"We just concluded SQL\", \"Now moving to Python\", \n",
    "           \"[I am a student of Appclick]\", [1,2,4,6,8],\"SQL\", 9,8,7,6]\n",
    "\n",
    "# create a new list we want to paste in\n",
    "\n",
    "cloned_list = original_list[:]\n",
    "\n",
    "# Here we used the assign operator to extract the whole data in the old list to the new list \n",
    "# without modifyong the contents of the old list.This is exactly what slice does\n",
    "print(original_list)\n",
    "print(cloned_list)"
   ]
  },
  {
   "cell_type": "code",
   "execution_count": 192,
   "id": "6ab2e1f3",
   "metadata": {},
   "outputs": [
    {
     "name": "stdout",
     "output_type": "stream",
     "text": [
      "['BLACK', 'YELLOW', 'GREEN', 'CHOCOLATE', 'COFFEE', 'LEMON']\n",
      "['BLACK', 'YELLOW', 'GREEN', 'CHOCOLATE', 'COFFEE', 'LEMON']\n"
     ]
    }
   ],
   "source": [
    "# extend method \n",
    "\n",
    "initial_list = [\"BLACK\", \"YELLOW\", \"GREEN\", \"CHOCOLATE\", \"COFFEE\", \"LEMON\"]\n",
    "later_List = [] #At the moment its empty\n",
    "later_List.extend(initial_list)# Here we are extending or passing the contents in initial list\n",
    "                                 # to the later list.\n",
    "    \n",
    "print(initial_list)\n",
    "print(later_List)\n"
   ]
  },
  {
   "cell_type": "markdown",
   "id": "7752873a",
   "metadata": {},
   "source": [
    "### Differentiate between the find method and count and index methods.\n",
    "\n",
    "* Find and Index returns the position of an element or value at first occurrence. \n",
    "<br> However where the difference lies is that .Find() works for string and not list, \n",
    "<br> while .index() works for both.\n",
    "\n",
    "* Also for .find(), when the specified value is not found it return an (-1) \n",
    "<br> but in the case of .index() it returns an error message if the substring or elements \n",
    "<br> isnt found  not found in a string or list respectively\n",
    "\n",
    "* In the case of count, while the other two functions (find and index) \n",
    "<br> returns the position of an element or value, \n",
    "<br> count method check the number of occurrence of a specified value/element.\n",
    "\n",
    "Below is an example of how individual methods works\n"
   ]
  },
  {
   "cell_type": "code",
   "execution_count": null,
   "id": "fe041dae",
   "metadata": {},
   "outputs": [],
   "source": []
  },
  {
   "cell_type": "code",
   "execution_count": 193,
   "id": "8ebd9f35",
   "metadata": {},
   "outputs": [
    {
     "name": "stdout",
     "output_type": "stream",
     "text": [
      "12\n",
      "12\n"
     ]
    }
   ],
   "source": [
    "#find()\n",
    "\n",
    "str_1 = \"I am a data scientist\"\n",
    "str_2 = str_1.find(\"s\")\n",
    "print(str_2)\n",
    "\n",
    "#We can also pass the function into a print statement.Eg:\n",
    "print(str_1.find(\"s\"))\n"
   ]
  },
  {
   "cell_type": "code",
   "execution_count": 195,
   "id": "197ea2fb",
   "metadata": {},
   "outputs": [
    {
     "name": "stdout",
     "output_type": "stream",
     "text": [
      "4\n",
      "['Bracket', 'Exponential', 'Division', 'Multiplication', 'Exponential', 'Addition', 'Subtraction', 'Exponential', 'Exponential']\n"
     ]
    }
   ],
   "source": [
    "# Count()\n",
    "\n",
    "str_1 = [\"Bracket\", \"Exponential\", \"Division\", \"Multiplication\", \"Addition\", \"Subtraction\"]\n",
    "\n",
    "#let us add an element that is already present in the list\n",
    "# We can use the append and insert method for this \n",
    "\n",
    "str_1.append(\"Exponential\")\n",
    "str_1.append(\"Exponential\")\n",
    "str_1.insert(4, \"Exponential\")\n",
    "\n",
    "# \"Exponential\" seems to appear more than one,we can use count method to check\n",
    "             \n",
    "print(str_1.count(\"Exponential\"))\n",
    "print(str_1)"
   ]
  },
  {
   "cell_type": "code",
   "execution_count": 62,
   "id": "4a4fbc1d",
   "metadata": {},
   "outputs": [
    {
     "name": "stdout",
     "output_type": "stream",
     "text": [
      "2\n"
     ]
    }
   ],
   "source": [
    "# Index() \n",
    "\n",
    "#using index to work on a string\n",
    "\n",
    "str_1 = \"I am a data scientist\"\n",
    "str_2 = str_1.find(\"a\")\n",
    "print(str_2)\n"
   ]
  },
  {
   "cell_type": "code",
   "execution_count": 196,
   "id": "cecf4cd5",
   "metadata": {},
   "outputs": [
    {
     "name": "stdout",
     "output_type": "stream",
     "text": [
      "0\n",
      "7\n",
      "16\n",
      "15\n",
      "5\n"
     ]
    }
   ],
   "source": [
    "#using index to work on a list\n",
    "\n",
    "another_eg = [\"Plain\", 1, 6, 8, (\"Banana\",\"Mango\"), [34,68,9,3],\"People\", \n",
    "              \"A\", \"Plan\",[56,9,23,3], \"Plain\",[34,68,9,3],\"People\", \n",
    "              \"b\", 1, 9,(\"Banana\"), \"Be\", \"A\", 4, \"Plain\", 0]\n",
    "\n",
    "print(another_eg.index(\"Plain\"))\n",
    "print(another_eg.index(\"A\"))\n",
    "print(another_eg.index((\"Banana\")))\n",
    "print(another_eg.index(9))     \n",
    "print(another_eg.index([34,68,9,3]))\n"
   ]
  },
  {
   "cell_type": "markdown",
   "id": "48d14b59",
   "metadata": {},
   "source": [
    "### Create a Personal “To-Do List”\n",
    "\n",
    "* Utilize various list functions.\n",
    "* Remove the entire list.\n"
   ]
  },
  {
   "cell_type": "code",
   "execution_count": 197,
   "id": "1bee4d53",
   "metadata": {},
   "outputs": [
    {
     "data": {
      "text/plain": [
       "['Register for a Gym session',\n",
       " 'Try a new recipe for groundnut oil-smoky coconut rice',\n",
       " 'Revisit SQL and attempt task on it']"
      ]
     },
     "execution_count": 197,
     "metadata": {},
     "output_type": "execute_result"
    }
   ],
   "source": [
    "#Creating a to do list\n",
    "_myTD_list = [\"Register for a Gym session\", \"Try a new recipe for groundnut oil-smoky coconut rice\",\n",
    "                     \"Revisit SQL and attempt task on it\"]\n",
    "_myTD_list"
   ]
  },
  {
   "cell_type": "code",
   "execution_count": 198,
   "id": "63c4f0af",
   "metadata": {},
   "outputs": [
    {
     "data": {
      "text/plain": [
       "['Register for a Gym session',\n",
       " 'Try a new recipe for groundnut oil-smoky coconut rice',\n",
       " 'Revisit SQL and attempt task on it',\n",
       " 'Hold a tutorial class on python',\n",
       " 'Complete MAKING SMART GOALS book']"
      ]
     },
     "execution_count": 198,
     "metadata": {},
     "output_type": "execute_result"
    }
   ],
   "source": [
    "#Trying .append()\n",
    "_myTD_list.append(\"Hold a tutorial class on python\")\n",
    "_myTD_list.append(\"Complete MAKING SMART GOALS book\")\n",
    "_myTD_list"
   ]
  },
  {
   "cell_type": "code",
   "execution_count": 200,
   "id": "5adf17a6",
   "metadata": {},
   "outputs": [
    {
     "data": {
      "text/plain": [
       "['Sign up for regular pioneering',\n",
       " 'Record at least 5 hours in the field ministry within a week',\n",
       " ('Eat', 'Sleep', 'Code'),\n",
       " 'Take a dancing class',\n",
       " 'Get married before the end of August',\n",
       " 'Complete MAKING SMART GOALS book',\n",
       " 'Listen to podcast on self devoplment at least thrice a week',\n",
       " 'Attend a paint and sip session',\n",
       " 'Visit Lagos before the end of the month',\n",
       " 'Visit at least one ederly person in the congregation',\n",
       " 'Hold a tutorial class on python']"
      ]
     },
     "execution_count": 200,
     "metadata": {},
     "output_type": "execute_result"
    }
   ],
   "source": [
    "# Creating another to-do list\n",
    "another_list = [\"Sign up for regular pioneering\",\n",
    "                \"Record at least 5 hours in the field ministry within a week\",\n",
    "                (\"Eat\", \"Sleep\", \"Code\"), \"Take a dancing class\", \n",
    "                \"Get married before the end of August\", \"Complete MAKING SMART GOALS book\", \n",
    "                \"Listen to podcast on self devoplment at least thrice a week\", \n",
    "                \"Attend a paint and sip session\", \"Visit Lagos before the end of the month\",\n",
    "                \"Visit at least one ederly person in the congregation\", \n",
    "                \"Hold a tutorial class on python\"]\n",
    "another_list"
   ]
  },
  {
   "cell_type": "code",
   "execution_count": 201,
   "id": "f19a76ac",
   "metadata": {},
   "outputs": [
    {
     "data": {
      "text/plain": [
       "['Register for a Gym session',\n",
       " 'Try a new recipe for groundnut oil-smoky coconut rice',\n",
       " 'Revisit SQL and attempt task on it',\n",
       " 'Hold a tutorial class on python',\n",
       " 'Complete MAKING SMART GOALS book',\n",
       " 'Sign up for regular pioneering',\n",
       " 'Record at least 5 hours in the field ministry within a week',\n",
       " ('Eat', 'Sleep', 'Code'),\n",
       " 'Take a dancing class',\n",
       " 'Get married before the end of August',\n",
       " 'Complete MAKING SMART GOALS book',\n",
       " 'Listen to podcast on self devoplment at least thrice a week',\n",
       " 'Attend a paint and sip session',\n",
       " 'Visit Lagos before the end of the month',\n",
       " 'Visit at least one ederly person in the congregation',\n",
       " 'Hold a tutorial class on python']"
      ]
     },
     "execution_count": 201,
     "metadata": {},
     "output_type": "execute_result"
    }
   ],
   "source": [
    "#Trying .extend()\n",
    "\n",
    "_myTD_list.extend(another_list)\n",
    "_myTD_list"
   ]
  },
  {
   "cell_type": "code",
   "execution_count": 202,
   "id": "2688a833",
   "metadata": {},
   "outputs": [
    {
     "data": {
      "text/plain": [
       "['Register for a Gym session',\n",
       " 'Try a new recipe for groundnut oil-smoky coconut rice',\n",
       " 'Revisit SQL and attempt task on it',\n",
       " 'Hold a tutorial class on python',\n",
       " 'Complete MAKING SMART GOALS book',\n",
       " 'Take 5 minutes evening walk around the estate',\n",
       " 'Sign up for regular pioneering',\n",
       " 'Record at least 5 hours in the field ministry within a week',\n",
       " ('Eat', 'Sleep', 'Code'),\n",
       " 'Take a dancing class',\n",
       " 'Get married before the end of August',\n",
       " 'Complete MAKING SMART GOALS book',\n",
       " 'Listen to podcast on self devoplment at least thrice a week',\n",
       " 'Attend a paint and sip session',\n",
       " 'Visit Lagos before the end of the month',\n",
       " 'Visit at least one ederly person in the congregation',\n",
       " 'Hold a tutorial class on python']"
      ]
     },
     "execution_count": 202,
     "metadata": {},
     "output_type": "execute_result"
    }
   ],
   "source": [
    "#using insert method\n",
    "_myTD_list.insert(5, \"Take 5 minutes evening walk around the estate\")\n",
    "_myTD_list"
   ]
  },
  {
   "cell_type": "code",
   "execution_count": 203,
   "id": "5b072028",
   "metadata": {},
   "outputs": [
    {
     "data": {
      "text/plain": [
       "['Register for a Gym session',\n",
       " 'Try a new recipe for groundnut oil-smoky coconut rice',\n",
       " 'Revisit SQL and attempt task on it',\n",
       " 'Hold a tutorial class on python',\n",
       " 'Complete MAKING SMART GOALS book',\n",
       " 'Sign up for regular pioneering',\n",
       " 'Record at least 5 hours in the field ministry within a week',\n",
       " ('Eat', 'Sleep', 'Code'),\n",
       " 'Take a dancing class',\n",
       " 'Get married before the end of August',\n",
       " 'Complete MAKING SMART GOALS book',\n",
       " 'Listen to podcast on self devoplment at least thrice a week',\n",
       " 'Attend a paint and sip session',\n",
       " 'Visit Lagos before the end of the month',\n",
       " 'Visit at least one ederly person in the congregation',\n",
       " 'Hold a tutorial class on python']"
      ]
     },
     "execution_count": 203,
     "metadata": {},
     "output_type": "execute_result"
    }
   ],
   "source": [
    "#Using remove method\n",
    "_myTD_list.remove(\"Take 5 minutes evening walk around the estate\")\n",
    "_myTD_list"
   ]
  },
  {
   "cell_type": "code",
   "execution_count": 204,
   "id": "fd1bd1a3",
   "metadata": {},
   "outputs": [
    {
     "data": {
      "text/plain": [
       "['Register for a Gym session',\n",
       " 'Try a new recipe for groundnut oil-smoky coconut rice',\n",
       " 'Revisit SQL and attempt task on it',\n",
       " 'Hold a tutorial class on python',\n",
       " 'Complete MAKING SMART GOALS book',\n",
       " 'Sign up for regular pioneering',\n",
       " 'Record at least 5 hours in the field ministry within a week',\n",
       " ('Eat', 'Sleep', 'Code'),\n",
       " 'Take a dancing class',\n",
       " 'Get married before the end of August',\n",
       " 'Complete MAKING SMART GOALS book',\n",
       " 'Listen to podcast on self devoplment at least thrice a week',\n",
       " 'Attend a paint and sip session',\n",
       " 'Visit Lagos before the end of the month',\n",
       " 'Visit at least one ederly person in the congregation']"
      ]
     },
     "execution_count": 204,
     "metadata": {},
     "output_type": "execute_result"
    }
   ],
   "source": [
    "#Using pop()\n",
    "#\"Hold a tutorial on python\" seems to appear twice,\n",
    "# pop can help do away with one of them\n",
    "\n",
    "_myTD_list.pop()\n",
    "_myTD_list"
   ]
  },
  {
   "cell_type": "code",
   "execution_count": 205,
   "id": "0ed189cd",
   "metadata": {},
   "outputs": [
    {
     "data": {
      "text/plain": [
       "['Register for a Gym session',\n",
       " 'Try a new recipe for groundnut oil-smoky coconut rice',\n",
       " 'Revisit SQL and attempt task on it',\n",
       " 'Hold a tutorial class on python',\n",
       " 'Complete MAKING SMART GOALS book',\n",
       " 'Sign up for regular pioneering',\n",
       " 'Record at least 5 hours in the field ministry within a week',\n",
       " ('Eat', 'Sleep', 'Code'),\n",
       " 'Take a dancing class',\n",
       " 'Complete MAKING SMART GOALS book',\n",
       " 'Listen to podcast on self devoplment at least thrice a week',\n",
       " 'Attend a paint and sip session',\n",
       " 'Visit Lagos before the end of the month',\n",
       " 'Visit at least one ederly person in the congregation']"
      ]
     },
     "execution_count": 205,
     "metadata": {},
     "output_type": "execute_result"
    }
   ],
   "source": [
    "# Pop can also pop out any element regardless of its position, provided the index number\n",
    "# of the element is passed. Eg:Getting married before the end of the month does seem\n",
    "# realistic so i want to pop it out\n",
    "\n",
    "_myTD_list.pop(9)\n",
    "_myTD_list"
   ]
  },
  {
   "cell_type": "code",
   "execution_count": 206,
   "id": "77c8df75",
   "metadata": {},
   "outputs": [
    {
     "data": {
      "text/plain": [
       "['Register for a Gym session',\n",
       " 'Try a new recipe for groundnut oil-smoky coconut rice',\n",
       " 'Revisit SQL and attempt task on it',\n",
       " 'Hold a tutorial class on python',\n",
       " 'Complete MAKING SMART GOALS book',\n",
       " 'Sign up for regular pioneering',\n",
       " 'Record at least 5 hours in the field ministry within a week',\n",
       " 'Take a dancing class',\n",
       " 'Complete MAKING SMART GOALS book',\n",
       " 'Listen to podcast on self devoplment at least thrice a week',\n",
       " 'Attend a paint and sip session',\n",
       " 'Visit Lagos before the end of the month',\n",
       " 'Visit at least one ederly person in the congregation']"
      ]
     },
     "execution_count": 206,
     "metadata": {},
     "output_type": "execute_result"
    }
   ],
   "source": [
    "# using del method to delete the tupple i have in my list\n",
    "del _myTD_list[-7]\n",
    "\n",
    "_myTD_list"
   ]
  },
  {
   "cell_type": "code",
   "execution_count": 207,
   "id": "232d5f92",
   "metadata": {},
   "outputs": [
    {
     "data": {
      "text/plain": [
       "['Attend a paint and sip session',\n",
       " 'Complete MAKING SMART GOALS book',\n",
       " 'Complete MAKING SMART GOALS book',\n",
       " 'Hold a tutorial class on python',\n",
       " 'Listen to podcast on self devoplment at least thrice a week',\n",
       " 'Record at least 5 hours in the field ministry within a week',\n",
       " 'Register for a Gym session',\n",
       " 'Revisit SQL and attempt task on it',\n",
       " 'Sign up for regular pioneering',\n",
       " 'Take a dancing class',\n",
       " 'Try a new recipe for groundnut oil-smoky coconut rice',\n",
       " 'Visit Lagos before the end of the month',\n",
       " 'Visit at least one ederly person in the congregation']"
      ]
     },
     "execution_count": 207,
     "metadata": {},
     "output_type": "execute_result"
    }
   ],
   "source": [
    "#Using sort function \n",
    "_myTD_list.sort()\n",
    "_myTD_list\n"
   ]
  },
  {
   "cell_type": "code",
   "execution_count": 208,
   "id": "aa260df8",
   "metadata": {},
   "outputs": [
    {
     "data": {
      "text/plain": [
       "['Visit at least one ederly person in the congregation',\n",
       " 'Visit Lagos before the end of the month',\n",
       " 'Try a new recipe for groundnut oil-smoky coconut rice',\n",
       " 'Take a dancing class',\n",
       " 'Sign up for regular pioneering',\n",
       " 'Revisit SQL and attempt task on it',\n",
       " 'Register for a Gym session',\n",
       " 'Record at least 5 hours in the field ministry within a week',\n",
       " 'Listen to podcast on self devoplment at least thrice a week',\n",
       " 'Hold a tutorial class on python',\n",
       " 'Complete MAKING SMART GOALS book',\n",
       " 'Complete MAKING SMART GOALS book',\n",
       " 'Attend a paint and sip session']"
      ]
     },
     "execution_count": 208,
     "metadata": {},
     "output_type": "execute_result"
    }
   ],
   "source": [
    "#using reverse method \n",
    "_myTD_list.reverse()\n",
    "_myTD_list"
   ]
  },
  {
   "cell_type": "code",
   "execution_count": 209,
   "id": "95c55dfe",
   "metadata": {},
   "outputs": [
    {
     "data": {
      "text/plain": [
       "10"
      ]
     },
     "execution_count": 209,
     "metadata": {},
     "output_type": "execute_result"
    }
   ],
   "source": [
    "#Using index function to know the position of a specified element at it first occurence \n",
    "_myTD_list.index(\"Complete MAKING SMART GOALS book\")"
   ]
  },
  {
   "cell_type": "code",
   "execution_count": 210,
   "id": "6395f80d",
   "metadata": {},
   "outputs": [
    {
     "data": {
      "text/plain": [
       "13"
      ]
     },
     "execution_count": 210,
     "metadata": {},
     "output_type": "execute_result"
    }
   ],
   "source": [
    "#Using len to know the total numbers of highlighted goals in the To do list\n",
    "len(_myTD_list)"
   ]
  },
  {
   "cell_type": "code",
   "execution_count": 211,
   "id": "450c12b3",
   "metadata": {},
   "outputs": [
    {
     "name": "stdout",
     "output_type": "stream",
     "text": [
      "[]\n"
     ]
    }
   ],
   "source": [
    "#Using clear method to wipe out the contents in _myTD_list\n",
    "_myTD_list.clear()\n",
    "print(_myTD_list)"
   ]
  },
  {
   "cell_type": "code",
   "execution_count": 212,
   "id": "87611e40",
   "metadata": {},
   "outputs": [
    {
     "data": {
      "text/plain": [
       "[{'Career goals': ('Hold a tutorial class on python',\n",
       "   'Revisit SQL and attempt task on it',\n",
       "   ('Eat', 'Sleep', 'Code')),\n",
       "  'Spiritual goals': ['Sign up for regular pioneering',\n",
       "   'Record at least 5 hours in the field ministry within a week',\n",
       "   'Visit at least on ederly person in the congregation'],\n",
       "  'Self development goals': ('Complete MAKING SMART GOALS book',\n",
       "   'Try a new recipe for groundnut oil-smoky coconut rice',\n",
       "   'Listen to podcast on self devoplment at least thrice a week'),\n",
       "  'Health goals': ['Take 5 minutes evening walk around the estate',\n",
       "   'Register for a gym class',\n",
       "   'Take a dancing class']},\n",
       " 'Visit Lagos before the end of the month',\n",
       " 'Attend a paint and sip hangout']"
      ]
     },
     "execution_count": 212,
     "metadata": {},
     "output_type": "execute_result"
    }
   ],
   "source": [
    "# Using copy method\n",
    "#creating a more defined to-do list\n",
    "\n",
    "August_TDlist = [{\"Career goals\": (\"Hold a tutorial class on python\",\n",
    "                                    \"Revisit SQL and attempt task on it\",\n",
    "                                    (\"Eat\", \"Sleep\", \"Code\")), \n",
    "                   \n",
    "                  \"Spiritual goals\": [\"Sign up for regular pioneering\", \n",
    "                                      \"Record at least 5 hours in the field ministry within a week\",\n",
    "                                      \"Visit at least on ederly person in the congregation\"],\n",
    "                   \n",
    "                  \"Self development goals\": (\"Complete MAKING SMART GOALS book\", \n",
    "                                             \"Try a new recipe for groundnut oil-smoky coconut rice\",\n",
    "                                \"Listen to podcast on self devoplment at least thrice a week\"),\n",
    "                   \n",
    "                   \"Health goals\": [\"Take 5 minutes evening walk around the estate\",\n",
    "                                    \"Register for a gym class\", \"Take a dancing class\"]},\n",
    "                   \n",
    "                  \"Visit Lagos before the end of the month\", \"Attend a paint and sip hangout\"]\n",
    "August_TDlist\n",
    "\n",
    "#Copying the content of August_TDlist to _myTD_list\n",
    "\n",
    "_myTD_list = August_TDlist.copy()\n",
    "_myTD_list"
   ]
  },
  {
   "cell_type": "code",
   "execution_count": 216,
   "id": "9336a5cb",
   "metadata": {},
   "outputs": [
    {
     "name": "stdout",
     "output_type": "stream",
     "text": [
      "[]\n"
     ]
    }
   ],
   "source": [
    "# According to the instruction, we are to delete the list\n",
    "\n",
    "August_TDlist.clear() #Goodbye To-do list\n",
    "print(August_TDlist)"
   ]
  },
  {
   "cell_type": "markdown",
   "id": "1f235fbb",
   "metadata": {},
   "source": [
    "### Research on how to update a Tuple, if possible.\n",
    "\n",
    "Although a tuple, once created cannot be changed as its considered immutable. \n",
    "Howevere there is a way to go about it. One way we can do so is by converting or type casting \n",
    "the tuple into a list first, make the needed changes and convert it back to a tuple. \n",
    "\n",
    "lets take a look at an example:"
   ]
  },
  {
   "cell_type": "code",
   "execution_count": 224,
   "id": "d7448db8",
   "metadata": {},
   "outputs": [
    {
     "name": "stdout",
     "output_type": "stream",
     "text": [
      "['Bubble', 'Butter', 'Baboon', 'Bottle', 'Bingo', 'Better']\n",
      "('Bubble', 'Butter', 'Baboon', 'Bottle', 'Bingo', 'Better')\n"
     ]
    }
   ],
   "source": [
    "tup = (\"Bubble\", \"Bettle\", \"Baboon\", \"Bottle\", \"Bingo\") #Here is a tupple\n",
    "#I want to add \"Better\" and \"Butter\" to the list\n",
    "#Converting to a list for modification \n",
    "\n",
    "li = list(tup)\n",
    "type(li)\n",
    "\n",
    "li[1] = \"Butter\"\n",
    "li.append(\"Better\")\n",
    "print(li)\n",
    "\n",
    "# We have modified the list, its time to convert it back to a tupple\n",
    "\n",
    "tup = tuple(li)\n",
    "print(tup)\n"
   ]
  },
  {
   "cell_type": "code",
   "execution_count": null,
   "id": "d51a2927",
   "metadata": {},
   "outputs": [],
   "source": []
  },
  {
   "cell_type": "code",
   "execution_count": null,
   "id": "1d021836",
   "metadata": {},
   "outputs": [],
   "source": []
  },
  {
   "cell_type": "code",
   "execution_count": null,
   "id": "9459ce4a",
   "metadata": {},
   "outputs": [],
   "source": []
  }
 ],
 "metadata": {
  "kernelspec": {
   "display_name": "Python 3 (ipykernel)",
   "language": "python",
   "name": "python3"
  },
  "language_info": {
   "codemirror_mode": {
    "name": "ipython",
    "version": 3
   },
   "file_extension": ".py",
   "mimetype": "text/x-python",
   "name": "python",
   "nbconvert_exporter": "python",
   "pygments_lexer": "ipython3",
   "version": "3.11.4"
  }
 },
 "nbformat": 4,
 "nbformat_minor": 5
}
